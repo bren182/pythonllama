{
 "cells": [
  {
   "cell_type": "code",
   "execution_count": 1,
   "id": "41313151-376c-4b61-8a63-9d73855cfda0",
   "metadata": {},
   "outputs": [],
   "source": [
    "from langchain_ollama import ChatOllama \n",
    "from langchain_core.prompts import PromptTemplate\n",
    "from langchain_core.output_parsers import StrOutputParser"
   ]
  },
  {
   "cell_type": "code",
   "execution_count": 2,
   "id": "e8705473-fdae-4fc9-8fed-7ad3b0e8cab9",
   "metadata": {},
   "outputs": [],
   "source": [
    "local_llm = \"llama3.2:3b\""
   ]
  },
  {
   "cell_type": "code",
   "execution_count": 39,
   "id": "0be76e08-5fc7-4ab1-b61e-4e6d5a30d305",
   "metadata": {},
   "outputs": [],
   "source": [
    "llm = ChatOllama(model=local_llm, format=\"json\", temperature=0.8)"
   ]
  },
  {
   "cell_type": "code",
   "execution_count": 40,
   "id": "1c13bc4b-dcd3-4eb0-9387-417d9d5eea69",
   "metadata": {},
   "outputs": [],
   "source": [
    "# A prompt template\n",
    "template = \"Question: {question} Answer: Let's think step by step\"\n",
    "prompt  = PromptTemplate.from_template(template)"
   ]
  },
  {
   "cell_type": "code",
   "execution_count": 41,
   "id": "5200201f-0cd2-4935-9632-5a6d8129ad15",
   "metadata": {},
   "outputs": [],
   "source": [
    "# Format the prompt with the input variable\n",
    "formatted_prompt = prompt.format(question=\"Tell me about you\")"
   ]
  },
  {
   "cell_type": "code",
   "execution_count": 44,
   "id": "fa0b1796-fef0-4156-8022-146bd5ae3bbe",
   "metadata": {},
   "outputs": [
    {
     "name": "stdout",
     "output_type": "stream",
     "text": [
      "Question: Tell me about you Answer: Let's think step by step\n"
     ]
    }
   ],
   "source": [
    "llm_chain = prompt | llm | StrOutputParser()\n",
    "print(formatted_prompt)\n",
    "generation = llm_chain.invoke(formatted_prompt)"
   ]
  },
  {
   "cell_type": "code",
   "execution_count": 46,
   "id": "5ae37ae8-7742-4e2c-b757-aecd92dcef68",
   "metadata": {},
   "outputs": [
    {
     "name": "stdout",
     "output_type": "stream",
     "text": [
      "{\"Let's think step by step\"  : \"I'll provide a response to your question in a structured and methodical way. Here's how we can proceed:\"}\n",
      "\n",
      "                                \n"
     ]
    }
   ],
   "source": [
    "print(generation)"
   ]
  },
  {
   "cell_type": "code",
   "execution_count": null,
   "id": "5bbb1fcd-770a-4581-9ab2-16bb7442bfe4",
   "metadata": {},
   "outputs": [],
   "source": []
  },
  {
   "cell_type": "code",
   "execution_count": null,
   "id": "d23eb6f1-c25e-4dbd-86d9-7ea3ea304396",
   "metadata": {},
   "outputs": [],
   "source": []
  }
 ],
 "metadata": {
  "kernelspec": {
   "display_name": "Python 3 (ipykernel)",
   "language": "python",
   "name": "python3"
  },
  "language_info": {
   "codemirror_mode": {
    "name": "ipython",
    "version": 3
   },
   "file_extension": ".py",
   "mimetype": "text/x-python",
   "name": "python",
   "nbconvert_exporter": "python",
   "pygments_lexer": "ipython3",
   "version": "3.13.1"
  }
 },
 "nbformat": 4,
 "nbformat_minor": 5
}

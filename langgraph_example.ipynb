{
 "cells": [
  {
   "cell_type": "code",
   "execution_count": 2,
   "id": "572ba6da-b2eb-43dc-9a1a-1c94311a0f70",
   "metadata": {},
   "outputs": [],
   "source": [
    "from langgraph.graph import Graph "
   ]
  },
  {
   "cell_type": "code",
   "execution_count": 4,
   "id": "0be3e476-71fa-494d-9fce-4548cc89c0bc",
   "metadata": {},
   "outputs": [],
   "source": [
    "def myfunc(input1):\n",
    "    return input1 + \"hello\""
   ]
  },
  {
   "cell_type": "code",
   "execution_count": 5,
   "id": "6b737a7f-421d-4c30-977f-09df2bc8f050",
   "metadata": {},
   "outputs": [],
   "source": [
    "def function2(input2):\n",
    "    return input2 + \"world\""
   ]
  },
  {
   "cell_type": "code",
   "execution_count": 8,
   "id": "f2f6af6c-309f-4476-aede-0afa2c52af8e",
   "metadata": {},
   "outputs": [
    {
     "name": "stdout",
     "output_type": "stream",
     "text": [
      "langgraph: helloworld\n"
     ]
    }
   ],
   "source": [
    "# defining the graph\n",
    "workflow = Graph()\n",
    "\n",
    "workflow.add_node(\"nod1\", myfunc)\n",
    "workflow.add_node(\"nod2\", function2)\n",
    "\n",
    "workflow.add_edge('nod1','nod2')\n",
    "\n",
    "workflow.set_entry_point(\"nod1\")\n",
    "workflow.set_finish_point(\"nod2\")\n",
    "\n",
    "app = workflow.compile()\n",
    "\n",
    "print(app.invoke(\"langgraph: \"))"
   ]
  },
  {
   "cell_type": "code",
   "execution_count": null,
   "id": "d0b0b153-1dd2-4992-9881-e2b23842b13d",
   "metadata": {},
   "outputs": [],
   "source": []
  }
 ],
 "metadata": {
  "kernelspec": {
   "display_name": "Python 3 (ipykernel)",
   "language": "python",
   "name": "python3"
  },
  "language_info": {
   "codemirror_mode": {
    "name": "ipython",
    "version": 3
   },
   "file_extension": ".py",
   "mimetype": "text/x-python",
   "name": "python",
   "nbconvert_exporter": "python",
   "pygments_lexer": "ipython3",
   "version": "3.13.1"
  }
 },
 "nbformat": 4,
 "nbformat_minor": 5
}

{
 "cells": [
  {
   "cell_type": "code",
   "execution_count": 7,
   "id": "6df59257-dc25-4447-8ba9-cc6be4d41370",
   "metadata": {},
   "outputs": [],
   "source": [
    "# basic chatbot using langgraph\n",
    "from typing import Annotated\n",
    "\n",
    "from typing_extensions import TypedDict\n",
    "\n",
    "from langgraph.graph import StateGraph, START, END\n",
    "from langgraph.graph.message import add_messages\n",
    "from langchain_ollama import ChatOllama "
   ]
  },
  {
   "cell_type": "code",
   "execution_count": 8,
   "id": "34e1f37d-722e-4985-8365-f8bca1685b8c",
   "metadata": {},
   "outputs": [],
   "source": [
    "class State(TypedDict):\n",
    "    # messages have the type \"list\", the add_messages function \n",
    "    # in the annotation defines how this state key should be updated , in this case, it shopuld append a message to the list rather than overwriting them\n",
    "    messages: Annotated[list, add_messages]"
   ]
  },
  {
   "cell_type": "code",
   "execution_count": 9,
   "id": "a2191f92-0502-4168-ace8-06807a9fc039",
   "metadata": {},
   "outputs": [],
   "source": [
    "# create a StateGraph instance and pass it our State Class. We will use this to create nodes/edges later on.\n",
    "graph_builder = StateGraph(State)"
   ]
  },
  {
   "cell_type": "code",
   "execution_count": 10,
   "id": "d1f7e885-05be-4d44-ba2a-6895b0a49b2b",
   "metadata": {},
   "outputs": [],
   "source": [
    "llm = ChatOllama(model=\"llama3.2:3b\")\n",
    "\n",
    "def chatbot(state: State):\n",
    "    return {\"messages\": [llm.invoke(state[\"messages\"])]}\n",
    "\n",
    "# now add a node, first argument is the unique node name, second argumnet is the function or object that will be called whenever the node is used\n",
    "\n",
    "graph_builder"
   ]
  },
  {
   "cell_type": "code",
   "execution_count": null,
   "id": "a8564ff5-17c0-419f-b526-d187b5a1505b",
   "metadata": {},
   "outputs": [],
   "source": []
  }
 ],
 "metadata": {
  "kernelspec": {
   "display_name": "Python 3 (ipykernel)",
   "language": "python",
   "name": "python3"
  },
  "language_info": {
   "codemirror_mode": {
    "name": "ipython",
    "version": 3
   },
   "file_extension": ".py",
   "mimetype": "text/x-python",
   "name": "python",
   "nbconvert_exporter": "python",
   "pygments_lexer": "ipython3",
   "version": "3.13.1"
  }
 },
 "nbformat": 4,
 "nbformat_minor": 5
}
